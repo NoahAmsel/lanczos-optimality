{
 "cells": [
  {
   "cell_type": "code",
   "execution_count": null,
   "metadata": {},
   "outputs": [],
   "source": [
    "import flamp\n",
    "import numpy as np\n",
    "import numpy.linalg as lin\n",
    "import pandas as pd\n",
    "import seaborn as sns\n",
    "from matplotlib import pyplot as plt\n",
    "from scipy import sparse\n",
    "from tqdm import tqdm\n",
    "\n",
    "import matrix_functions as mf\n",
    "\n",
    "flamp.set_dps(50)  # compute with this many decimal digits precision\n"
   ]
  },
  {
   "cell_type": "code",
   "execution_count": null,
   "metadata": {},
   "outputs": [],
   "source": [
    "dim = 100\n",
    "rng = np.random.default_rng(42)\n",
    "kappa = flamp.gmpy2.mpfr(1_000.)\n",
    "lambda_min = flamp.gmpy2.mpfr(1.)\n",
    "lambda_max = kappa * lambda_min\n",
    "\n",
    "# a_diag = flamp.linspace(lambda_min, lambda_max, dim)\n",
    "# a_diag = flamp.to_mp(mf.generate_model_spectrum(dim, kappa, 0.9, lambda_1=lambda_min))\n",
    "a_diag = flamp.linspace(0.95 * lambda_max, lambda_max, dim)\n",
    "a_diag[0] = lambda_min\n",
    "\n",
    "A = mf.DiagonalMatrix(a_diag)\n",
    "sqrtA = mf.DiagonalMatrix(flamp.sqrt(a_diag))"
   ]
  },
  {
   "cell_type": "code",
   "execution_count": null,
   "metadata": {},
   "outputs": [],
   "source": [
    "denom_deg = 2\n",
    "def f(x):\n",
    "    return x**(-denom_deg)\n",
    "# f = flamp.sqrt # np.sqrt\n",
    "\n",
    "x = flamp.to_mp(np.flip(mf.generate_model_spectrum(dim, kappa, 0.9)))  # flamp.ones(dim) # flamp.to_mp(rng.standard_normal(dim)) # should this just be the all ones vector??\n",
    "ground_truth = mf.diagonal_fa(f, a_diag, x)\n",
    "\n",
    "ks = list(range(1, dim, 10))  # size of Krylov subspace"
   ]
  },
  {
   "cell_type": "code",
   "execution_count": null,
   "metadata": {},
   "outputs": [],
   "source": [
    "# Lanczos-FA\n",
    "lanczos_errors = pd.Series(index=ks, dtype=np.float64)\n",
    "for k, lanczos_estimate in tqdm(zip(ks, mf.lanczos_fa_multi_k(f, A, x, ks=ks, reorthogonalize=True))):\n",
    "    lanczos_errors.loc[k] = mf.norm(lanczos_estimate - ground_truth)"
   ]
  },
  {
   "cell_type": "code",
   "execution_count": null,
   "metadata": {},
   "outputs": [],
   "source": [
    "# Optimal approximation to ground truth in Krylov subspace\n",
    "# \"Optimal\" with respect to either Euclidean norm or A norm\n",
    "\n",
    "krylov_basis, _ = mf.lanczos(A, x, reorthogonalize=True)\n",
    "\n",
    "krylov_errors_2norm = pd.Series(index=ks, dtype=np.float64)\n",
    "for k in tqdm(ks):\n",
    "    # # _, squared_l2_error, _, _ = lin.lstsq(krylov_basis[:, :k], ground_truth, rcond=None)\n",
    "    # # krylov_errors_2norm.append(np.sqrt(squared_l2_error.item()))\n",
    "    _, residual = flamp.qr_solve(krylov_basis[:, :k], ground_truth, res=True)\n",
    "    krylov_errors_2norm.loc[k] = mf.norm(residual)\n",
    "\n",
    "krylov_errors_Anorm = pd.Series(index=ks, dtype=np.float64)\n",
    "for k in tqdm(ks):\n",
    "    _, residual = flamp.qr_solve(sqrtA @ krylov_basis[:, :k], sqrtA @ ground_truth, res=True)\n",
    "    krylov_errors_Anorm.loc[k] = mf.norm(residual)"
   ]
  },
  {
   "cell_type": "code",
   "execution_count": null,
   "metadata": {},
   "outputs": [],
   "source": [
    "spectrum_discritization = mf.cheb_nodes(10 * dim, a=lambda_min, b=lambda_max, dtype=np.dtype('O'))\n",
    "f_spectrum_discritization = f(spectrum_discritization)\n",
    "CV = mf.cheb_vandermonde(spectrum_discritization, dim+1)\n",
    "\n",
    "cheb_interpolant_errors = pd.Series(index=ks, dtype=np.float64)\n",
    "for k in tqdm(ks):\n",
    "    # Degree of polynomial must be strictly less than dimension of Krylov subspace used in Lanczos (so k - 1)\n",
    "    cheb_interpolant = mf.cheb_interpolation(k - 1, f, lambda_min, lambda_max, dtype=np.dtype('O'))\n",
    "    cheb_interpolant_error = mf.norm(cheb_interpolant(spectrum_discritization) - f_spectrum_discritization, ord=np.inf)\n",
    "    cheb_interpolant_errors.loc[k] = 2 * mf.norm(x) * cheb_interpolant_error\n",
    "\n",
    "cheb_regression_errors = pd.Series(index=ks, dtype=np.float64)\n",
    "for k in tqdm(ks):\n",
    "    cheb_coeffs = flamp.qr_solve(CV[:, :k], f_spectrum_discritization)\n",
    "    # cheb_coeffs, _, _, _ = lin.lstsq(CV[:, :k], f_spectrum_discritization, rcond=None)\n",
    "    cheb_regression_error = mf.norm(CV[:, :k] @ cheb_coeffs - f_spectrum_discritization, ord=np.inf)\n",
    "    cheb_regression_errors.loc[k] = 2 * mf.norm(x) * cheb_regression_error\n"
   ]
  },
  {
   "cell_type": "code",
   "execution_count": null,
   "metadata": {},
   "outputs": [],
   "source": [
    "results = pd.DataFrame({\n",
    "    \"Lanczos-FA\": lanczos_errors,\n",
    "    \"Krylov subspace\": krylov_errors_2norm,\n",
    "    # double check: is the factor of denom_deg necessary?\n",
    "    \"Our bound\": denom_deg * (kappa ** denom_deg) * krylov_errors_Anorm,\n",
    "    \"Chebyshev interpolant $* 2||x||$\": cheb_interpolant_errors,\n",
    "    \"Chebyshev regression $* 2||x||$\": cheb_regression_errors\n",
    "}, index=ks)\n",
    "\n",
    "relative_error = True\n",
    "if relative_error:\n",
    "    # notice that it's relative to the *Euclidean* norm of the ground truth\n",
    "    results /= mf.norm(ground_truth)\n",
    "    error_label = \"Relative Error\"\n",
    "else:\n",
    "    error_label = \"Error\""
   ]
  },
  {
   "cell_type": "code",
   "execution_count": null,
   "metadata": {},
   "outputs": [],
   "source": [
    "assert (results != flamp.gmpy2.mpfr('nan')).all().all()\n",
    "assert (~pd.isna(results)).all().all()"
   ]
  },
  {
   "cell_type": "code",
   "execution_count": null,
   "metadata": {},
   "outputs": [],
   "source": [
    "results_long = results.reset_index(names=\"Number of matrix-vector products\").melt(\n",
    "    id_vars=[\"Number of matrix-vector products\"], value_name=error_label, var_name=\"Approximant\")\n",
    "\n",
    "sns.lineplot(x=\"Number of matrix-vector products\", y=error_label, hue=\"Approximant\", style=\"Approximant\", data=results_long).set(\n",
    "    title=f'Approximation of $f(A)b$',\n",
    "    yscale='log'\n",
    ");\n",
    "\n",
    "plt.savefig('output/convergence.svg')"
   ]
  },
  {
   "cell_type": "code",
   "execution_count": null,
   "metadata": {},
   "outputs": [],
   "source": [
    "# import scipy.special as sps\n",
    "\n",
    "# def tyler_inv_sqrt(q, a, b):\n",
    "#     # In the sidford paper, the approximation is valid in the range [gamma, 1]\n",
    "#     # that corresponds to [min(abs(lam)), max(abs(lam))] / max(abs(lam))\n",
    "#     # since sidford's gamma =tyler's sqrt(k2)\n",
    "\n",
    "#     # lmin = np.min(np.abs(lam))**2\n",
    "#     # lmax = np.max(np.abs(lam))**2\n",
    "#     assert 0 < a < b \n",
    "#     lmin = a ** 2\n",
    "#     lmax = b ** 2\n",
    "\n",
    "#     poles = flamp.zeros(q)\n",
    "#     weights = flamp.zeros(q)\n",
    "\n",
    "#     k2 = lmin/lmax  # this is called gamma^2 in the Sidford paper\n",
    "#     Kp = sps.ellipk(1-k2)  # this is called K prime in the Sidford paper\n",
    "\n",
    "#     t = 1j*np.arange(1/2,q+1/2)*Kp/q\n",
    "\n",
    "#     sn_,cn_,dn_,_ = sps.ellipj(np.imag(t),1-k2) # compute real valued functions to transform to what we need\n",
    "\n",
    "#     cn = 1/cn_\n",
    "#     dn = dn_ / cn_\n",
    "#     sn = 1j * sn_ / cn_\n",
    "\n",
    "#     poles = np.real(lmin * sn**2)\n",
    "\n",
    "#     weights = (2 * Kp * flamp.sqrt(lmin))/(flamp.gmpy2.const_pi()*q) * (cn * dn)\n",
    "\n",
    "#     return lambda x: np.sum( weights / (x[:,None]-poles) ,axis=1)"
   ]
  },
  {
   "cell_type": "code",
   "execution_count": null,
   "metadata": {},
   "outputs": [],
   "source": [
    "# import baryrat\n",
    "\n",
    "# running_best_rational_bound = np.inf\n",
    "# best_rational_bounds = []\n",
    "# for k in range(99):\n",
    "#     if k >= 2:\n",
    "#         ##### WARNING! DON\"T HARD CODE THE FUNCTION OK!\n",
    "#         # aaa_interpolant = baryrat.aaa(np.array(spectrum_discritization, float), np.sqrt, mmax=(k//2))\n",
    "#         # error = mf.norm(aaa_interpolant(spectrum_discritization) - np.array(f_spectrum_discritization, float), ord=np.inf)\n",
    "#         # deg_k_error = (kappa ** (k//2)) * error\n",
    "#         inv_sqrt = tyler_inv_sqrt((k//2), spectrum_discritization.min(), spectrum_discritization.max())\n",
    "#         zolotarev_interpolant = lambda x: 1./inv_sqrt(x)\n",
    "#     else:\n",
    "#         deg_k_error = np.inf\n",
    "\n",
    "#     running_best_rational_bound = min(running_best_rational_bound, deg_k_error)\n",
    "#     best_rational_bounds.append(running_best_rational_bound)\n",
    "\n",
    "# results['rational'] = np.array([min(best_rational_bound[:(k+1)]) for k in ks], dtype=float)"
   ]
  },
  {
   "cell_type": "code",
   "execution_count": null,
   "metadata": {},
   "outputs": [],
   "source": [
    "# rational_bound_all_q = []\n",
    "# for q in range(2,20):\n",
    "#     rq_inv_sqrt = tyler_inv_sqrt(q, lambda_min, lambda_max)\n",
    "#     rational_bound_q = []\n",
    "#     for k in ks:\n",
    "#         rational_approx_error = mf.norm(f(spectrum_discritization) - 1./rq_inv_sqrt(spectrum_discritization), ord=np.inf)\n",
    "#         _, residual = flamp.qr_solve(krylov_basis[:, :k], mf.diagonal_fa(rq_inv_sqrt, a_diag, x), res=True) # uh-oh, this is 2-norm optimal, not A-norm optimal\n",
    "#         krylov_error = mf.norm(residual, ord=np.inf)\n",
    "#         rational_bound_q.append(rational_approx_error + (kappa ** q) * krylov_error)\n",
    "#     rational_bound_all_q.append(rational_bound_q)\n",
    "\n",
    "# results['other'] = np.array(rational_bound_all_q, float).min(axis=0)"
   ]
  },
  {
   "cell_type": "code",
   "execution_count": null,
   "metadata": {},
   "outputs": [],
   "source": []
  }
 ],
 "metadata": {
  "kernelspec": {
   "display_name": "Python 3.9.1 ('base')",
   "language": "python",
   "name": "python3"
  },
  "language_info": {
   "codemirror_mode": {
    "name": "ipython",
    "version": 3
   },
   "file_extension": ".py",
   "mimetype": "text/x-python",
   "name": "python",
   "nbconvert_exporter": "python",
   "pygments_lexer": "ipython3",
   "version": "3.9.1"
  },
  "orig_nbformat": 4,
  "vscode": {
   "interpreter": {
    "hash": "995e9fae4017a94a0855a8c23e7f212ad0ac508fdc1855e26859a30dfe101cde"
   }
  }
 },
 "nbformat": 4,
 "nbformat_minor": 2
}
