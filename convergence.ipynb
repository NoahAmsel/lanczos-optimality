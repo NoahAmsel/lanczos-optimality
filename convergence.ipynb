{
 "cells": [
  {
   "cell_type": "code",
   "execution_count": null,
   "metadata": {},
   "outputs": [],
   "source": [
    "import flamp\n",
    "import numpy as np\n",
    "import numpy.linalg as lin\n",
    "import pandas as pd\n",
    "import seaborn as sns\n",
    "from matplotlib import pyplot as plt\n",
    "from scipy import sparse\n",
    "from tqdm import tqdm\n",
    "\n",
    "import matrix_functions as mf\n",
    "\n",
    "flamp.set_dps(100)  # compute with this many decimal digits precision\n"
   ]
  },
  {
   "cell_type": "code",
   "execution_count": null,
   "metadata": {},
   "outputs": [],
   "source": [
    "dim = 100\n",
    "rng = np.random.default_rng(42)\n",
    "lambda_min = 1\n",
    "kappa = 1_000\n",
    "lambda_max = kappa * lambda_min\n",
    "\n",
    "# np.linspace(lambda_min, lambda_max, dim)\n",
    "a_diag = flamp.linspace(lambda_min, lambda_max, dim)\n",
    "\n",
    "class DiagMatrix:\n",
    "    def __init__(self, diag):\n",
    "        self.diag = diag\n",
    "        self.shape = (len(self), len(self))\n",
    "\n",
    "    def __len__(self):\n",
    "        return len(self.diag)\n",
    "\n",
    "    def __matmul__(self, other):\n",
    "        assert len(other) == len(self)\n",
    "        return self.diag * other\n",
    "\n",
    "    @property\n",
    "    def dtype(self):\n",
    "        return self.diag.dtype\n",
    "\n",
    "# A = sparse.diags((a_diag), (0))  # this doesn't work with flamp\n",
    "A = DiagMatrix(a_diag)"
   ]
  },
  {
   "cell_type": "code",
   "execution_count": null,
   "metadata": {},
   "outputs": [],
   "source": [
    "denom_deg = 2\n",
    "def f(x):\n",
    "    return x**(-denom_deg)"
   ]
  },
  {
   "cell_type": "code",
   "execution_count": null,
   "metadata": {},
   "outputs": [],
   "source": [
    "x = flamp.to_mp(rng.standard_normal(dim))\n",
    "ground_truth = mf.diagonal_fa(f, a_diag, x)\n",
    "krylov_basis, _ = mf.lanczos(A, x, reorthogonalize=True)"
   ]
  },
  {
   "cell_type": "code",
   "execution_count": null,
   "metadata": {},
   "outputs": [],
   "source": [
    "ks = list(range(1, dim, 10))\n",
    "lanczos_errors = []\n",
    "krylov_errors = []\n",
    "cheb_interpolant_errors = []\n",
    "cheb_regression_errors = []\n",
    "\n",
    "spectrum_discritization = mf.cheb_nodes(10*dim, a=lambda_min, b=lambda_max)\n",
    "f_spectrum_discritization = f(spectrum_discritization)\n",
    "CV = mf.cheb_vandermonde(spectrum_discritization, dim+1)\n",
    "\n",
    "for k, lanczos_estimate in tqdm(zip(ks, mf.lanczos_fa_multi_k(f, A, x, ks=ks, reorthogonalize=True))):\n",
    "    lanczos_errors.append(mf.norm(lanczos_estimate - ground_truth))\n",
    "\n",
    "    # _, squared_l2_error, _, _ = lin.lstsq(krylov_basis[:, :k], ground_truth, rcond=None)\n",
    "    # krylov_errors.append(np.sqrt(squared_l2_error.item()))\n",
    "    _, residual = flamp.qr_solve(krylov_basis[:, :k], ground_truth, res=True)\n",
    "    krylov_errors.append(mf.norm(residual))\n",
    "\n",
    "    # Degree of polynomial must be strictly less than dimension of Krylov subspace used in Lanczos (so k - 1)\n",
    "    cheb_interpolant = mf.cheb_interpolation(k - 1, f, lambda_min, lambda_max)\n",
    "    cheb_interpolant_error = lin.norm(cheb_interpolant(spectrum_discritization) - f_spectrum_discritization, ord=np.inf)\n",
    "    cheb_interpolant_errors.append(2 * mf.norm(x) * cheb_interpolant_error)\n",
    "\n",
    "    cheb_coeffs = flamp.qr_solve(CV[:, :k], f_spectrum_discritization)\n",
    "    # cheb_coeffs, _, _, _ = lin.lstsq(CV[:, :k], f_spectrum_discritization, rcond=None)\n",
    "    cheb_regression_error = lin.norm(CV[:, :k] @ cheb_coeffs - f_spectrum_discritization, ord=np.inf)\n",
    "    cheb_regression_errors.append(2 * mf.norm(x) * cheb_regression_error)\n",
    "\n",
    "results = pd.DataFrame({\n",
    "    \"Number of matrix-vector products\": np.array(ks) - 1,\n",
    "    \"Lanczos-FA\": np.array(lanczos_errors, float),\n",
    "    \"Krylov subspace\": np.array(krylov_errors, float),\n",
    "    \"Our bound\": (kappa ** denom_deg) * np.array(krylov_errors, float),\n",
    "    \"Chebyshev interpolant $* 2||x||$\": np.array(cheb_interpolant_errors, float),\n",
    "    \"Chebyshev regression $* 2||x||$\": np.array(cheb_regression_errors, float)\n",
    "})\n",
    "\n",
    "relative_error = False\n",
    "if relative_error:\n",
    "    results.loc[:, results.columns != \"Number of matrix-vector products\"] /= mf.norm(ground_truth)"
   ]
  },
  {
   "cell_type": "code",
   "execution_count": null,
   "metadata": {},
   "outputs": [],
   "source": [
    "results_long = pd.melt(results, [\"Number of matrix-vector products\"], value_name=\"Error\", var_name=\"Approximant\")\n",
    "sns.lineplot(x=\"Number of matrix-vector products\", y=(\"Relative Error\" if relative_error else \"Error\"), hue=\"Approximant\", style=\"Approximant\", data=results_long).set(\n",
    "    title=f'Approximation of $A^{{-{denom_deg}}}b$',\n",
    "    yscale='log'\n",
    ");"
   ]
  }
 ],
 "metadata": {
  "kernelspec": {
   "display_name": "Python 3.9.1 ('base')",
   "language": "python",
   "name": "python3"
  },
  "language_info": {
   "codemirror_mode": {
    "name": "ipython",
    "version": 3
   },
   "file_extension": ".py",
   "mimetype": "text/x-python",
   "name": "python",
   "nbconvert_exporter": "python",
   "pygments_lexer": "ipython3",
   "version": "3.9.1"
  },
  "orig_nbformat": 4,
  "vscode": {
   "interpreter": {
    "hash": "995e9fae4017a94a0855a8c23e7f212ad0ac508fdc1855e26859a30dfe101cde"
   }
  }
 },
 "nbformat": 4,
 "nbformat_minor": 2
}
