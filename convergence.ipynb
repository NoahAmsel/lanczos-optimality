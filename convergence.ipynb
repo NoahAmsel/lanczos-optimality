{
 "cells": [
  {
   "cell_type": "code",
   "execution_count": null,
   "metadata": {},
   "outputs": [],
   "source": [
    "import numpy as np\n",
    "import numpy.linalg as lin\n",
    "from matplotlib import pyplot as plt\n",
    "import pandas as pd\n",
    "from scipy import sparse\n",
    "import seaborn as sns\n",
    "\n",
    "from matrix_functions import cheb_interpolation, diagonal_fa, lanczos, lanczos_fa_multi_k"
   ]
  },
  {
   "cell_type": "code",
   "execution_count": null,
   "metadata": {},
   "outputs": [],
   "source": [
    "dim = 100\n",
    "rng = np.random.default_rng(42)\n",
    "a_diag = np.array(list(range(1, dim+1)))\n",
    "A = sparse.diags((a_diag), (0))\n",
    "lambda_min = min(a_diag)\n",
    "lambda_max = max(a_diag)\n",
    "kappa = np.abs(lambda_max) / np.abs(lambda_min)\n",
    "f = lambda x: 1/(x**2)  # or np.power(x, -2.) or something? f(x) = 1/x^2"
   ]
  },
  {
   "cell_type": "code",
   "execution_count": null,
   "metadata": {},
   "outputs": [],
   "source": [
    "x = rng.standard_normal(dim)\n",
    "ground_truth = diagonal_fa(f, a_diag, x)\n",
    "krylov_basis, _ = lanczos(A, x, reorthogonalize=True)"
   ]
  },
  {
   "cell_type": "code",
   "execution_count": null,
   "metadata": {},
   "outputs": [],
   "source": [
    "ks = list(range(1, dim+1))\n",
    "lanczos_errors = []\n",
    "krylov_errors = []\n",
    "our_bound = []\n",
    "cheb_interpolant_errors = []\n",
    "\n",
    "for k, lanczos_estimate in zip(ks, lanczos_fa_multi_k(f, A, x, ks=ks)):\n",
    "    lanczos_errors.append(lin.norm(lanczos_estimate - ground_truth))\n",
    "\n",
    "    coeffs, _, _, _ = lin.lstsq(krylov_basis[:, :k], ground_truth, rcond=None)\n",
    "    krylov_error = lin.norm(krylov_basis[:, :k] @ coeffs - ground_truth)\n",
    "    krylov_errors.append(krylov_error)\n",
    "    our_bound.append((kappa ** 2) * krylov_error)\n",
    "\n",
    "    ## WAIT! should this be k-1 \\/ ?\n",
    "    cheb_interpolant = cheb_interpolation(k, f, lambda_min, lambda_max)\n",
    "    xx = np.linspace(lambda_min, lambda_max, num=500)\n",
    "    cheb_interpolant_errors.append(2 * lin.norm(x) * max(np.abs(f(z) - cheb_interpolant(z)) for z in xx))"
   ]
  },
  {
   "cell_type": "code",
   "execution_count": null,
   "metadata": {},
   "outputs": [],
   "source": [
    "results = pd.DataFrame({\n",
    "    \"Number of matrix products\": ks,\n",
    "    \"Error of Lanczos-FA\": lanczos_errors,\n",
    "    \"Error of Krylov subspace\": krylov_errors,\n",
    "    \"Our bound\": our_bound,\n",
    "    \"Error of Chebyshev interpolant *2||x||\": cheb_interpolant_errors\n",
    "})\n",
    "results_long = pd.melt(results, [\"Number of matrix products\"], value_name=\"value\")\n",
    "sns.lineplot(x=\"Number of matrix products\", y=\"value\", hue=\"variable\", style=\"variable\", data=results_long)\n",
    "plt.yscale('log')"
   ]
  },
  {
   "cell_type": "code",
   "execution_count": null,
   "metadata": {},
   "outputs": [],
   "source": []
  },
  {
   "cell_type": "code",
   "execution_count": null,
   "metadata": {},
   "outputs": [],
   "source": [
    "def my_f(z):\n",
    "    z = (z-10)/2\n",
    "    return np.abs(z) + z/2 - z**2\n",
    "\n",
    "a = 8\n",
    "b = 12\n",
    "\n",
    "interp = cheb_interpolation(1, my_f, a, b)\n",
    "\n",
    "xx = np.linspace(a, b, num=500)\n",
    "plt.plot(xx, my_f(xx))\n",
    "plt.plot(xx, [interp(z) for z in xx])"
   ]
  }
 ],
 "metadata": {
  "kernelspec": {
   "display_name": "Python 3.9.1 ('base')",
   "language": "python",
   "name": "python3"
  },
  "language_info": {
   "codemirror_mode": {
    "name": "ipython",
    "version": 3
   },
   "file_extension": ".py",
   "mimetype": "text/x-python",
   "name": "python",
   "nbconvert_exporter": "python",
   "pygments_lexer": "ipython3",
   "version": "3.9.1"
  },
  "orig_nbformat": 4,
  "vscode": {
   "interpreter": {
    "hash": "995e9fae4017a94a0855a8c23e7f212ad0ac508fdc1855e26859a30dfe101cde"
   }
  }
 },
 "nbformat": 4,
 "nbformat_minor": 2
}
