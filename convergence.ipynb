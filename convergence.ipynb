{
 "cells": [
  {
   "cell_type": "code",
   "execution_count": null,
   "metadata": {},
   "outputs": [],
   "source": [
    "import numpy as np\n",
    "import numpy.linalg as lin\n",
    "from matplotlib import pyplot as plt\n",
    "import pandas as pd\n",
    "from scipy import sparse\n",
    "import seaborn as sns\n",
    "\n",
    "from matrix_functions import diagonal_fa, lanczos_fa_multi_k, krylov_subspace"
   ]
  },
  {
   "cell_type": "code",
   "execution_count": null,
   "metadata": {},
   "outputs": [],
   "source": [
    "dim = 100\n",
    "rng = np.random.default_rng(42)\n",
    "a_diag = np.array(list(range(1, dim+1)))\n",
    "A = sparse.diags((a_diag), (0))\n",
    "lambda_min = min(a_diag)\n",
    "lambda_max = max(a_diag)\n",
    "kappa = np.abs(lambda_max) / np.abs(lambda_min)\n",
    "f = lambda x: 1/(x**2)  # or np.power(x, -2.) or something? f(x) = 1/x^2"
   ]
  },
  {
   "cell_type": "code",
   "execution_count": null,
   "metadata": {},
   "outputs": [],
   "source": [
    "x = rng.standard_normal(dim)\n",
    "ground_truth = diagonal_fa(f, a_diag, x)\n",
    "krylov_basis = krylov_subspace(A, x)"
   ]
  },
  {
   "cell_type": "code",
   "execution_count": null,
   "metadata": {},
   "outputs": [],
   "source": [
    "ks = list(range(1, dim+1))\n",
    "lanczos_errors = []\n",
    "krylov_errors = []\n",
    "our_bound = []\n",
    "for k, lanczos_estimate in zip(ks, lanczos_fa_multi_k(f, A, x, ks=ks)):\n",
    "    lanczos_errors.append(lin.norm(lanczos_estimate - ground_truth))\n",
    "\n",
    "    coeffs, _, _, _ = lin.lstsq(krylov_basis[:, :k], ground_truth, rcond=None)\n",
    "    krylov_error = lin.norm(krylov_basis[:, :k] @ coeffs - ground_truth)\n",
    "    krylov_errors.append(krylov_error)\n",
    "    our_bound.append((kappa ** k) * krylov_error)"
   ]
  },
  {
   "cell_type": "code",
   "execution_count": null,
   "metadata": {},
   "outputs": [],
   "source": [
    "results = pd.DataFrame({\n",
    "    \"Number of matrix products\": ks,\n",
    "    \"Error of Lanczos-FA\": lanczos_errors,\n",
    "    \"Error of Krylov subspace\": krylov_errors,\n",
    "    \"Our bound\": our_bound\n",
    "})\n",
    "sns.lineplot(x=\"Number of matrix products\", y=\"Error of Lanczos-FA\", data=results)\n",
    "sns.lineplot(x=\"Number of matrix products\", y=\"Error of Krylov subspace\", data=results)\n",
    "# sns.lineplot(x=\"Number of matrix products\", y=\"Our bound\", data=results)\n",
    "plt.yscale('log')"
   ]
  },
  {
   "cell_type": "code",
   "execution_count": null,
   "metadata": {},
   "outputs": [],
   "source": []
  }
 ],
 "metadata": {
  "kernelspec": {
   "display_name": "Python 3.9.1 ('base')",
   "language": "python",
   "name": "python3"
  },
  "language_info": {
   "codemirror_mode": {
    "name": "ipython",
    "version": 3
   },
   "file_extension": ".py",
   "mimetype": "text/x-python",
   "name": "python",
   "nbconvert_exporter": "python",
   "pygments_lexer": "ipython3",
   "version": "3.9.1"
  },
  "orig_nbformat": 4,
  "vscode": {
   "interpreter": {
    "hash": "995e9fae4017a94a0855a8c23e7f212ad0ac508fdc1855e26859a30dfe101cde"
   }
  }
 },
 "nbformat": 4,
 "nbformat_minor": 2
}
