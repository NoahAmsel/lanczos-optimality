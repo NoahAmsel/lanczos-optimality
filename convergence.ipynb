{
 "cells": [
  {
   "cell_type": "code",
   "execution_count": null,
   "metadata": {},
   "outputs": [],
   "source": [
    "import flamp\n",
    "import numpy as np\n",
    "import numpy.linalg as lin\n",
    "import pandas as pd\n",
    "import seaborn as sns\n",
    "from matplotlib import pyplot as plt\n",
    "from scipy import sparse\n",
    "from tqdm import tqdm\n",
    "\n",
    "import matrix_functions as mf\n",
    "from fa_performance import fa_performance\n",
    "\n",
    "flamp.set_dps(50)  # compute with this many decimal digits precision\n"
   ]
  },
  {
   "cell_type": "code",
   "execution_count": null,
   "metadata": {},
   "outputs": [],
   "source": [
    "dim = 100\n",
    "kappa = flamp.gmpy2.mpfr(1_000.)\n",
    "lambda_min = flamp.gmpy2.mpfr(1.)\n",
    "lambda_max = kappa * lambda_min\n",
    "\n",
    "# a_diag = mf.flipped_model_spectrum(dim, kappa, 50, lambda_1=lambda_min)\n",
    "# a_diag = mf.two_cluster_spectrum(dim, kappa, low_cluster_size=3, lambda_1=lambda_min)\n",
    "# a_diag = mf.two_cluster_spectrum(dim, kappa, low_cluster_size=1, high_cluster_width=0.25, lambda_1=lambda_min)\n",
    "# a_diag = mf.utils.linspace(lambda_min, lambda_max, num=dim)\n",
    "# a_diag = mf.model_spectrum(dim, kappa, .9, lambda_1=lambda_min)\n",
    "# a_diag = mf.two_cluster_spectrum(dim, kappa, low_cluster_width=0.001, high_cluster_width=0.5, low_cluster_size=5, lambda_1=lambda_min)\n",
    "a_diag = mf.geometric_spectrum(dim, kappa, rho=1e-5, lambda_1=1)\n",
    "\n",
    "\n",
    "plt.plot(a_diag)"
   ]
  },
  {
   "cell_type": "code",
   "execution_count": null,
   "metadata": {},
   "outputs": [],
   "source": [
    "denom_deg = 2\n",
    "def f(x):\n",
    "    return x**(-denom_deg)\n",
    "# f = flamp.sqrt # np.sqrt\n",
    "f = flamp.exp\n",
    "\n",
    "mu = a_diag[:-1] + np.diff(a_diag) / 2\n",
    "# mu = a_diag[1:] - np.diff(a_diag).min()/2\n",
    "b = mf.start_vec(a_diag, mu)\n",
    "\n",
    "# b = flamp.ones(dim)\n",
    "# b = flamp.to_mp(np.flip(mf.model_spectrum(dim, kappa, 0.9)))\n",
    "\n",
    "# size of Krylov subspace\n",
    "ks = list(range(1, dim, 10))  # + [dim]\n"
   ]
  },
  {
   "cell_type": "code",
   "execution_count": null,
   "metadata": {},
   "outputs": [],
   "source": [
    "results = fa_performance(f, a_diag, b, ks)\n",
    "krylov_label = \"||\\mathrm{opt}_k(I) - f(A)b||_2\"\n",
    "results[f\"$q \\kappa^q \\cdot {krylov_label}$\"] = denom_deg * (kappa ** denom_deg) * results[f\"${krylov_label}$\"]\n",
    "\n",
    "relative_error = True\n",
    "if relative_error:\n",
    "    # notice that it's relative to the *Euclidean* norm of the ground truth\n",
    "    results /= mf.norm(mf.diagonal_fa(f, a_diag, b))\n",
    "    error_label = \"Relative Error\"\n",
    "else:\n",
    "    error_label = \"Error\""
   ]
  },
  {
   "cell_type": "code",
   "execution_count": null,
   "metadata": {},
   "outputs": [],
   "source": [
    "results_long = results.reset_index(names=\"Number of matrix-vector products ($k$)\").melt(\n",
    "    id_vars=[\"Number of matrix-vector products ($k$)\"], value_name=error_label, var_name=\"Approximant\")\n",
    "\n",
    "sns.lineplot(x=\"Number of matrix-vector products ($k$)\", y=error_label, hue=\"Approximant\", style=\"Approximant\", data=results_long).set(\n",
    "    title=f'Approximation of $f(A)b$',\n",
    "    yscale='log'\n",
    ");\n",
    "\n",
    "plt.savefig('output/convergence.svg')"
   ]
  },
  {
   "cell_type": "code",
   "execution_count": null,
   "metadata": {},
   "outputs": [],
   "source": [
    "# import scipy.special as sps\n",
    "\n",
    "# def tyler_inv_sqrt(q, a, b):\n",
    "#     # In the sidford paper, the approximation is valid in the range [gamma, 1]\n",
    "#     # that corresponds to [min(abs(lam)), max(abs(lam))] / max(abs(lam))\n",
    "#     # since sidford's gamma =tyler's sqrt(k2)\n",
    "\n",
    "#     # lmin = np.min(np.abs(lam))**2\n",
    "#     # lmax = np.max(np.abs(lam))**2\n",
    "#     assert 0 < a < b \n",
    "#     lmin = a ** 2\n",
    "#     lmax = b ** 2\n",
    "\n",
    "#     poles = flamp.zeros(q)\n",
    "#     weights = flamp.zeros(q)\n",
    "\n",
    "#     k2 = lmin/lmax  # this is called gamma^2 in the Sidford paper\n",
    "#     Kp = sps.ellipk(1-k2)  # this is called K prime in the Sidford paper\n",
    "\n",
    "#     t = 1j*np.arange(1/2,q+1/2)*Kp/q\n",
    "\n",
    "#     sn_,cn_,dn_,_ = sps.ellipj(np.imag(t),1-k2) # compute real valued functions to transform to what we need\n",
    "\n",
    "#     cn = 1/cn_\n",
    "#     dn = dn_ / cn_\n",
    "#     sn = 1j * sn_ / cn_\n",
    "\n",
    "#     poles = np.real(lmin * sn**2)\n",
    "\n",
    "#     weights = (2 * Kp * flamp.sqrt(lmin))/(flamp.gmpy2.const_pi()*q) * (cn * dn)\n",
    "\n",
    "#     return lambda x: np.sum( weights / (x[:,None]-poles) ,axis=1)"
   ]
  },
  {
   "cell_type": "code",
   "execution_count": null,
   "metadata": {},
   "outputs": [],
   "source": [
    "# import baryrat\n",
    "\n",
    "# running_best_rational_bound = np.inf\n",
    "# best_rational_bounds = []\n",
    "# for k in range(99):\n",
    "#     if k >= 2:\n",
    "#         ##### WARNING! DON\"T HARD CODE THE FUNCTION OK!\n",
    "#         # aaa_interpolant = baryrat.aaa(np.array(spectrum_discritization, float), np.sqrt, mmax=(k//2))\n",
    "#         # error = mf.norm(aaa_interpolant(spectrum_discritization) - np.array(f_spectrum_discritization, float), ord=np.inf)\n",
    "#         # deg_k_error = (kappa ** (k//2)) * error\n",
    "#         inv_sqrt = tyler_inv_sqrt((k//2), spectrum_discritization.min(), spectrum_discritization.max())\n",
    "#         zolotarev_interpolant = lambda x: 1./inv_sqrt(x)\n",
    "#     else:\n",
    "#         deg_k_error = np.inf\n",
    "\n",
    "#     running_best_rational_bound = min(running_best_rational_bound, deg_k_error)\n",
    "#     best_rational_bounds.append(running_best_rational_bound)\n",
    "\n",
    "# results['rational'] = np.array([min(best_rational_bound[:(k+1)]) for k in ks], dtype=float)"
   ]
  },
  {
   "cell_type": "code",
   "execution_count": null,
   "metadata": {},
   "outputs": [],
   "source": [
    "# rational_bound_all_q = []\n",
    "# for q in range(2,20):\n",
    "#     rq_inv_sqrt = tyler_inv_sqrt(q, lambda_min, lambda_max)\n",
    "#     rational_bound_q = []\n",
    "#     for k in ks:\n",
    "#         rational_approx_error = mf.norm(f(spectrum_discritization) - 1./rq_inv_sqrt(spectrum_discritization), ord=np.inf)\n",
    "#         _, residual = flamp.qr_solve(krylov_basis[:, :k], mf.diagonal_fa(rq_inv_sqrt, a_diag, x), res=True) # uh-oh, this is 2-norm optimal, not A-norm optimal\n",
    "#         krylov_error = mf.norm(residual, ord=np.inf)\n",
    "#         rational_bound_q.append(rational_approx_error + (kappa ** q) * krylov_error)\n",
    "#     rational_bound_all_q.append(rational_bound_q)\n",
    "\n",
    "# results['other'] = np.array(rational_bound_all_q, float).min(axis=0)"
   ]
  },
  {
   "cell_type": "code",
   "execution_count": null,
   "metadata": {},
   "outputs": [],
   "source": []
  }
 ],
 "metadata": {
  "kernelspec": {
   "display_name": "Python 3.9.1 ('base')",
   "language": "python",
   "name": "python3"
  },
  "language_info": {
   "codemirror_mode": {
    "name": "ipython",
    "version": 3
   },
   "file_extension": ".py",
   "mimetype": "text/x-python",
   "name": "python",
   "nbconvert_exporter": "python",
   "pygments_lexer": "ipython3",
   "version": "3.9.1"
  },
  "orig_nbformat": 4,
  "vscode": {
   "interpreter": {
    "hash": "995e9fae4017a94a0855a8c23e7f212ad0ac508fdc1855e26859a30dfe101cde"
   }
  }
 },
 "nbformat": 4,
 "nbformat_minor": 2
}
