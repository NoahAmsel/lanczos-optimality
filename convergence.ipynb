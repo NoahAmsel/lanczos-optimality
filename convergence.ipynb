{
 "cells": [
  {
   "cell_type": "code",
   "execution_count": null,
   "metadata": {},
   "outputs": [],
   "source": [
    "import flamp\n",
    "import numpy as np\n",
    "import numpy.linalg as lin\n",
    "import pandas as pd\n",
    "import seaborn as sns\n",
    "from matplotlib import pyplot as plt\n",
    "from scipy import sparse\n",
    "from tqdm import tqdm\n",
    "\n",
    "import matrix_functions as mf\n",
    "from fa_performance import fa_performance\n",
    "from paper_plots import plot_convergence_curves\n",
    "\n",
    "flamp.set_dps(300)  # compute with this many decimal digits precision\n"
   ]
  },
  {
   "cell_type": "code",
   "execution_count": null,
   "metadata": {},
   "outputs": [],
   "source": [
    "dim = 100\n",
    "kappa = flamp.gmpy2.mpfr(1_000.)\n",
    "lambda_min = flamp.gmpy2.mpfr(1.)\n",
    "\n",
    "# a_diag = mf.flipped_model_spectrum(dim, kappa, 50, lambda_1=lambda_min)\n",
    "# a_diag = mf.two_cluster_spectrum(dim, kappa, low_cluster_size=3, lambda_1=lambda_min)\n",
    "# a_diag = mf.two_cluster_spectrum(dim, kappa, low_cluster_size=1, high_cluster_width=0.01, lambda_1=lambda_min)\n",
    "# a_diag = mf.utils.linspace(lambda_min, kappa * lambda_min, num=dim)\n",
    "# a_diag = mf.model_spectrum(dim, kappa, .9, lambda_1=lambda_min)\n",
    "# a_diag = mf.two_cluster_spectrum(dim, kappa, low_cluster_width=0.001, high_cluster_width=0.05, low_cluster_size=5, lambda_1=lambda_min)\n",
    "# a_diag = mf.geometric_spectrum(dim, kappa, rho=1e-5, lambda_1=lambda_min)\n",
    "# a_diag = mf.two_cluster_spectrum(dim, kappa, low_cluster_width=0.001, high_cluster_width=0.001, low_cluster_size=dim//2, lambda_1=lambda_min)\n",
    "\n",
    "# Tyler's idea\n",
    "# a_diag = np.concatenate((flamp.zeros(dim//5), flamp.ones(dim//5), 2*flamp.ones(dim//5), 3*flamp.ones(dim//5), 4*flamp.ones(dim//5)))\n",
    "# a_diag += 0.1 + np.random.randn(dim)\n",
    "# a_diag = np.sort(np.abs(a_diag))\n",
    "# a_diag = mf.two_cluster_spectrum(dim, kappa, low_cluster_size=1, high_cluster_width=0.1)\n",
    "\n",
    "# Chris and my idea\n",
    "low_size = 3\n",
    "a_diag = mf.two_cluster_spectrum(dim, kappa, low_cluster_size=low_size, low_cluster_width=0.05, high_cluster_width=0.05)\n",
    "\n",
    "plt.plot(a_diag)"
   ]
  },
  {
   "cell_type": "code",
   "execution_count": null,
   "metadata": {},
   "outputs": [],
   "source": [
    "denom_deg = 2\n",
    "def f(x):\n",
    "    return x**(-denom_deg)\n",
    "f.degree = (0, 2)\n",
    "\n",
    "# mu = a_diag[:-1] + np.diff(a_diag) / 2\n",
    "# mu = a_diag[:-1] + np.diff(a_diag).min() / 2\n",
    "# mu = a_diag[1:] - np.diff(a_diag).min()/2\n",
    "# b = mf.start_vec(a_diag, mu)\n",
    "\n",
    "b = flamp.ones(dim)\n",
    "# b = mf.two_cluster_spectrum(dim, kappa, low_cluster_size=1, high_cluster_width=0, lambda_1=lambda_min)\n",
    "# b = a_diag\n",
    "b[:low_size] = flamp.gmpy2.mpfr(1e-5)\n",
    "\n",
    "plt.plot(b)\n",
    "\n",
    "# size of Krylov subspace\n",
    "# ks = list(range(1, dim, 10))  # + [dim]\n",
    "ks = list(range(1, 30))\n"
   ]
  },
  {
   "cell_type": "code",
   "execution_count": null,
   "metadata": {},
   "outputs": [],
   "source": [
    "results = fa_performance(f, a_diag, b, ks, relative_error=True, lanczos_Anorm=True, krylov_optimal_Anorm=True)\n"
   ]
  },
  {
   "cell_type": "code",
   "execution_count": null,
   "metadata": {},
   "outputs": [],
   "source": [
    "krylov_optimal_label = r\"$||\\mathrm{opt}_k(A) - f(A)b||_A$\"\n",
    "lanczos_label = r\"$||\\mathrm{lan}_k - f(A)b||_A$\"\n",
    "optimality_ratios = results[lanczos_label] / results[krylov_optimal_label]\n",
    "sns.lineplot(data=optimality_ratios).set(\n",
    "    xlabel=\"Number of matrix-vector products ($k$)\",\n",
    "    ylabel=\"Optimality Ratio\"\n",
    ");\n",
    "optimality_ratios.astype(float).describe()"
   ]
  },
  {
   "cell_type": "code",
   "execution_count": null,
   "metadata": {},
   "outputs": [],
   "source": [
    "print(f\"Spike is at k={optimality_ratios.index[np.argmax(optimality_ratios)]}\")"
   ]
  },
  {
   "cell_type": "code",
   "execution_count": null,
   "metadata": {},
   "outputs": [],
   "source": [
    "plot_convergence_curves(results, \"Relative Error\", \"Number of matrix-vector products ($k$)\", title=None, ax=None)\n",
    "\n",
    "plt.savefig('output/convergence.svg')"
   ]
  },
  {
   "cell_type": "code",
   "execution_count": null,
   "metadata": {},
   "outputs": [],
   "source": [
    "A_decomp = mf.LanczosDecomposition.fit(mf.DiagonalMatrix(a_diag), b, max(ks), reorthogonalize=True)"
   ]
  },
  {
   "cell_type": "code",
   "execution_count": null,
   "metadata": {},
   "outputs": [],
   "source": [
    "min_ritz = pd.Series(index=ks, dtype=np.dtype('O'))\n",
    "second_ritz = pd.Series(index=ks, dtype=np.dtype('O'))\n",
    "for k in ks:\n",
    "    min_ritz.loc[k] = A_decomp.prefix(k).ritz_values().min()\n",
    "    if k > 1: second_ritz.loc[k] = A_decomp.prefix(k).ritz_values()[1]"
   ]
  },
  {
   "cell_type": "code",
   "execution_count": null,
   "metadata": {},
   "outputs": [],
   "source": [
    "sns.lineplot(data=min_ritz).set(\n",
    "    xlabel=\"Number of matrix-vector products ($k$)\",\n",
    "    ylabel=\"Smallest Ritz Value\"\n",
    ");"
   ]
  },
  {
   "cell_type": "code",
   "execution_count": null,
   "metadata": {},
   "outputs": [],
   "source": [
    "min_ritz"
   ]
  },
  {
   "cell_type": "code",
   "execution_count": null,
   "metadata": {},
   "outputs": [],
   "source": [
    "second_ritz"
   ]
  },
  {
   "cell_type": "code",
   "execution_count": null,
   "metadata": {},
   "outputs": [],
   "source": []
  },
  {
   "attachments": {},
   "cell_type": "markdown",
   "metadata": {},
   "source": [
    "# Detritus"
   ]
  },
  {
   "cell_type": "code",
   "execution_count": null,
   "metadata": {},
   "outputs": [],
   "source": [
    "# import baryrat\n",
    "\n",
    "# running_best_rational_bound = np.inf\n",
    "# best_rational_bounds = []\n",
    "# for k in range(99):\n",
    "#     if k >= 2:\n",
    "#         ##### WARNING! DON\"T HARD CODE THE FUNCTION OK!\n",
    "#         # aaa_interpolant = baryrat.aaa(np.array(spectrum_discritization, float), np.sqrt, mmax=(k//2))\n",
    "#         # error = mf.norm(aaa_interpolant(spectrum_discritization) - np.array(f_spectrum_discritization, float), ord=np.inf)\n",
    "#         # deg_k_error = (kappa ** (k//2)) * error\n",
    "#         inv_sqrt = tyler_inv_sqrt((k//2), spectrum_discritization.min(), spectrum_discritization.max())\n",
    "#         zolotarev_interpolant = lambda x: 1./inv_sqrt(x)\n",
    "#     else:\n",
    "#         deg_k_error = np.inf\n",
    "\n",
    "#     running_best_rational_bound = min(running_best_rational_bound, deg_k_error)\n",
    "#     best_rational_bounds.append(running_best_rational_bound)\n",
    "\n",
    "# results['rational'] = np.array([min(best_rational_bound[:(k+1)]) for k in ks], dtype=float)"
   ]
  },
  {
   "cell_type": "code",
   "execution_count": null,
   "metadata": {},
   "outputs": [],
   "source": [
    "# rational_bound_all_q = []\n",
    "# for q in range(2,20):\n",
    "#     rq_inv_sqrt = tyler_inv_sqrt(q, lambda_min, lambda_max)\n",
    "#     rational_bound_q = []\n",
    "#     for k in ks:\n",
    "#         rational_approx_error = mf.norm(f(spectrum_discritization) - 1./rq_inv_sqrt(spectrum_discritization), ord=np.inf)\n",
    "#         _, residual = flamp.qr_solve(krylov_basis[:, :k], mf.diagonal_fa(rq_inv_sqrt, a_diag, x), res=True) # uh-oh, this is 2-norm optimal, not A-norm optimal\n",
    "#         krylov_error = mf.norm(residual, ord=np.inf)\n",
    "#         rational_bound_q.append(rational_approx_error + (kappa ** q) * krylov_error)\n",
    "#     rational_bound_all_q.append(rational_bound_q)\n",
    "\n",
    "# results['other'] = np.array(rational_bound_all_q, float).min(axis=0)"
   ]
  },
  {
   "cell_type": "code",
   "execution_count": null,
   "metadata": {},
   "outputs": [],
   "source": []
  }
 ],
 "metadata": {
  "kernelspec": {
   "display_name": "Python 3.9.1 ('base')",
   "language": "python",
   "name": "python3"
  },
  "language_info": {
   "codemirror_mode": {
    "name": "ipython",
    "version": 3
   },
   "file_extension": ".py",
   "mimetype": "text/x-python",
   "name": "python",
   "nbconvert_exporter": "python",
   "pygments_lexer": "ipython3",
   "version": "3.9.1"
  },
  "orig_nbformat": 4,
  "vscode": {
   "interpreter": {
    "hash": "995e9fae4017a94a0855a8c23e7f212ad0ac508fdc1855e26859a30dfe101cde"
   }
  }
 },
 "nbformat": 4,
 "nbformat_minor": 2
}
