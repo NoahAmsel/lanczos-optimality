{
 "cells": [
  {
   "cell_type": "code",
   "execution_count": 1,
   "metadata": {},
   "outputs": [],
   "source": [
    "import flamp\n",
    "import numpy as np\n",
    "import numpy.linalg as lin\n",
    "import pandas as pd\n",
    "import seaborn as sns\n",
    "from matplotlib import pyplot as plt\n",
    "from scipy import sparse\n",
    "from tqdm import tqdm\n",
    "\n",
    "import matrix_functions as mf\n",
    "\n",
    "flamp.set_dps(50)  # compute with this many decimal digits precision"
   ]
  },
  {
   "cell_type": "code",
   "execution_count": 2,
   "metadata": {},
   "outputs": [],
   "source": [
    "def ritz_sequence(A, x):\n",
    "    _, (a, b) = mf.lanczos(A, x, reorthogonalize=True)\n",
    "    ritz_sequence = []\n",
    "    for i in range(1, dim+1):\n",
    "        true_ritz, _ = mf.utils.eigh_tridiagonal(a[:i], b[:i-1])\n",
    "        ritz_sequence.append(true_ritz)\n",
    "    return ritz_sequence"
   ]
  },
  {
   "cell_type": "code",
   "execution_count": 3,
   "metadata": {},
   "outputs": [],
   "source": [
    "dim = 20\n",
    "kappa = flamp.gmpy2.mpfr(1_000.)\n",
    "lambda_min = flamp.gmpy2.mpfr(1.)\n",
    "lambda_max = kappa * lambda_min\n",
    "\n",
    "a_diag = mf.utils.linspace(lambda_min, lambda_max, num=dim)\n",
    "\n",
    "A = mf.DiagonalMatrix(a_diag)"
   ]
  },
  {
   "cell_type": "code",
   "execution_count": 31,
   "metadata": {},
   "outputs": [],
   "source": [
    "mu = a_diag[:-2] + 0.1\n",
    "x = mf.start_vec(a_diag, mu)\n",
    "x *= flamp.sqrt(np.abs(flamp.gmpy2.mpfr(1000.1) - a_diag)) # works for anything between 947.42 and 1000\n",
    "# this follows from interlacing or something...\n",
    "seq = ritz_sequence(A, x)"
   ]
  },
  {
   "cell_type": "code",
   "execution_count": 35,
   "metadata": {},
   "outputs": [
    {
     "data": {
      "text/plain": [
       "array([mpfr('1.0',169),\n",
       "       mpfr('53.57894736842105263157894736842105263157894736842104',169),\n",
       "       mpfr('106.1578947368421052631578947368421052631578947368421',169),\n",
       "       mpfr('158.7368421052631578947368421052631578947368421052634',169),\n",
       "       mpfr('211.3157894736842105263157894736842105263157894736842',169),\n",
       "       mpfr('263.8947368421052631578947368421052631578947368421049',169),\n",
       "       mpfr('316.4736842105263157894736842105263157894736842105267',169),\n",
       "       mpfr('369.0526315789473684210526315789473684210526315789472',169),\n",
       "       mpfr('421.6315789473684210526315789473684210526315789473683',169),\n",
       "       mpfr('474.2105263157894736842105263157894736842105263157894',169),\n",
       "       mpfr('526.7894736842105263157894736842105263157894736842099',169),\n",
       "       mpfr('579.368421052631578947368421052631578947368421052631',169),\n",
       "       mpfr('631.9473684210526315789473684210526315789473684210535',169),\n",
       "       mpfr('684.5263157894736842105263157894736842105263157894746',169),\n",
       "       mpfr('737.1052631578947368421052631578947368421052631578944',169),\n",
       "       mpfr('789.6842105263157894736842105263157894736842105263155',169),\n",
       "       mpfr('842.2631578947368421052631578947368421052631578947366',169),\n",
       "       mpfr('894.8421052631578947368421052631578947368421052631591',169),\n",
       "       mpfr('947.4210526315789473684210526315789473684210526315789',169),\n",
       "       mpfr('1000.0',169)], dtype=object)"
      ]
     },
     "execution_count": 35,
     "metadata": {},
     "output_type": "execute_result"
    }
   ],
   "source": [
    "a_diag"
   ]
  },
  {
   "cell_type": "code",
   "execution_count": 32,
   "metadata": {},
   "outputs": [
    {
     "data": {
      "text/plain": [
       "mpfr('999.9003785119241167872637936485940116486974641874522',169)"
      ]
     },
     "execution_count": 32,
     "metadata": {},
     "output_type": "execute_result"
    }
   ],
   "source": [
    "_, (aaa, _) = mf.lanczos(A, x)\n",
    "aaa[-1]"
   ]
  },
  {
   "cell_type": "code",
   "execution_count": 33,
   "metadata": {},
   "outputs": [
    {
     "data": {
      "text/plain": [
       "mpfr('0.0003562280532087653232328689976867577105466258899447026',169)"
      ]
     },
     "execution_count": 33,
     "metadata": {},
     "output_type": "execute_result"
    }
   ],
   "source": [
    "np.abs(seq[-3] - mu).max()"
   ]
  },
  {
   "cell_type": "code",
   "execution_count": null,
   "metadata": {},
   "outputs": [],
   "source": [
    "lhs_mu = a_diag[:-1] + np.diff(a_diag).min()/50\n",
    "lhs = ritz_sequence(A, mf.start_vec(a_diag, lhs_mu))\n",
    "\n",
    "mid_mu = a_diag[:-1] + np.diff(a_diag).min()/2\n",
    "mid = ritz_sequence(A, mf.start_vec(a_diag, mid_mu))\n",
    "\n",
    "ones = ritz_sequence(A, flamp.ones(dim))"
   ]
  },
  {
   "cell_type": "code",
   "execution_count": null,
   "metadata": {},
   "outputs": [],
   "source": [
    "plt.vlines(a_diag.astype(float), 0, dim, colors='k')\n",
    "\n",
    "for i in range(dim):\n",
    "    plt.scatter(mid[i], np.full_like(mid[i], i), c='blue', alpha=0.7, s=5)\n",
    "    plt.scatter(ones[i], np.full_like(ones[i], i), c='orange', alpha=0.7, s=5)\n",
    "    plt.scatter(lhs[i], np.full_like(lhs[i], i), c='green', alpha=0.7, s=5)\n"
   ]
  },
  {
   "cell_type": "code",
   "execution_count": null,
   "metadata": {},
   "outputs": [],
   "source": [
    "i = dim // 2\n",
    "plt.plot(mid[i])\n",
    "plt.plot(ones[i])\n",
    "plt.plot(lhs[i])\n",
    "\n",
    "plt.legend([\"mu = mid\", \"b = 1\", \"mu = LHS\"])"
   ]
  },
  {
   "cell_type": "code",
   "execution_count": null,
   "metadata": {},
   "outputs": [],
   "source": [
    "for i in range(dim):\n",
    "    plt.plot(lhs[i])"
   ]
  },
  {
   "cell_type": "code",
   "execution_count": null,
   "metadata": {},
   "outputs": [],
   "source": [
    "for i in range(dim):\n",
    "    plt.plot(ones[i])"
   ]
  },
  {
   "cell_type": "code",
   "execution_count": null,
   "metadata": {},
   "outputs": [],
   "source": []
  }
 ],
 "metadata": {
  "kernelspec": {
   "display_name": "base",
   "language": "python",
   "name": "python3"
  },
  "language_info": {
   "codemirror_mode": {
    "name": "ipython",
    "version": 3
   },
   "file_extension": ".py",
   "mimetype": "text/x-python",
   "name": "python",
   "nbconvert_exporter": "python",
   "pygments_lexer": "ipython3",
   "version": "3.9.1"
  },
  "orig_nbformat": 4,
  "vscode": {
   "interpreter": {
    "hash": "995e9fae4017a94a0855a8c23e7f212ad0ac508fdc1855e26859a30dfe101cde"
   }
  }
 },
 "nbformat": 4,
 "nbformat_minor": 2
}
