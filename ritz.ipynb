{
 "cells": [
  {
   "cell_type": "code",
   "execution_count": null,
   "metadata": {},
   "outputs": [],
   "source": [
    "import flamp\n",
    "import numpy as np\n",
    "import numpy.linalg as lin\n",
    "import pandas as pd\n",
    "import seaborn as sns\n",
    "from matplotlib import pyplot as plt\n",
    "from scipy import sparse\n",
    "from tqdm import tqdm\n",
    "\n",
    "import matrix_functions as mf\n",
    "\n",
    "flamp.set_dps(50)  # compute with this many decimal digits precision"
   ]
  },
  {
   "cell_type": "code",
   "execution_count": null,
   "metadata": {},
   "outputs": [],
   "source": [
    "dim = 20\n",
    "kappa = flamp.gmpy2.mpfr(1_000.)\n",
    "lambda_min = flamp.gmpy2.mpfr(1.)\n",
    "lambda_max = kappa * lambda_min\n",
    "\n",
    "a_diag = mf.utils.linspace(lambda_min, lambda_max, num=dim)\n",
    "\n",
    "A = mf.DiagonalMatrix(a_diag)"
   ]
  },
  {
   "cell_type": "code",
   "execution_count": null,
   "metadata": {},
   "outputs": [],
   "source": [
    "def ritz_sequence(A, x):\n",
    "    _, (a, b) = mf.lanczos(A, x, reorthogonalize=True)\n",
    "    ritz_sequence = []\n",
    "    for i in range(1, dim+1):\n",
    "        true_ritz, _ = mf.utils.eigh_tridiagonal(a[:i], b[:i-1])\n",
    "        ritz_sequence.append(true_ritz)\n",
    "    return ritz_sequence"
   ]
  },
  {
   "cell_type": "code",
   "execution_count": null,
   "metadata": {},
   "outputs": [],
   "source": [
    "lhs_mu = a_diag[:-1] + np.diff(a_diag).min()/50\n",
    "lhs = ritz_sequence(A, mf.start_vec(a_diag, lhs_mu))\n",
    "\n",
    "mid_mu = a_diag[:-1] + np.diff(a_diag).min()/2\n",
    "mid = ritz_sequence(A, mf.start_vec(a_diag, mid_mu))\n",
    "\n",
    "ones = ritz_sequence(A, flamp.ones(dim))"
   ]
  },
  {
   "cell_type": "code",
   "execution_count": null,
   "metadata": {},
   "outputs": [],
   "source": [
    "plt.vlines(a_diag.astype(float), 0, dim, colors='k')\n",
    "\n",
    "for i in range(dim):\n",
    "    plt.scatter(mid[i], np.full_like(mid[i], i), c='blue', alpha=0.7, s=5)\n",
    "    plt.scatter(ones[i], np.full_like(ones[i], i), c='orange', alpha=0.7, s=5)\n",
    "    plt.scatter(lhs[i], np.full_like(lhs[i], i), c='green', alpha=0.7, s=5)\n"
   ]
  },
  {
   "cell_type": "code",
   "execution_count": null,
   "metadata": {},
   "outputs": [],
   "source": [
    "i = dim // 2\n",
    "plt.plot(mid[i])\n",
    "plt.plot(ones[i])\n",
    "plt.plot(lhs[i])\n",
    "\n",
    "plt.legend([\"mu = mid\", \"b = 1\", \"mu = LHS\"])"
   ]
  },
  {
   "cell_type": "code",
   "execution_count": null,
   "metadata": {},
   "outputs": [],
   "source": [
    "for i in range(dim):\n",
    "    plt.plot(lhs[i])"
   ]
  },
  {
   "cell_type": "code",
   "execution_count": null,
   "metadata": {},
   "outputs": [],
   "source": [
    "for i in range(dim):\n",
    "    plt.plot(ones[i])"
   ]
  },
  {
   "cell_type": "code",
   "execution_count": null,
   "metadata": {},
   "outputs": [],
   "source": []
  }
 ],
 "metadata": {
  "kernelspec": {
   "display_name": "base",
   "language": "python",
   "name": "python3"
  },
  "language_info": {
   "codemirror_mode": {
    "name": "ipython",
    "version": 3
   },
   "file_extension": ".py",
   "mimetype": "text/x-python",
   "name": "python",
   "nbconvert_exporter": "python",
   "pygments_lexer": "ipython3",
   "version": "3.9.1"
  },
  "orig_nbformat": 4,
  "vscode": {
   "interpreter": {
    "hash": "995e9fae4017a94a0855a8c23e7f212ad0ac508fdc1855e26859a30dfe101cde"
   }
  }
 },
 "nbformat": 4,
 "nbformat_minor": 2
}
