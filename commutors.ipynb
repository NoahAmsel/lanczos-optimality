{
 "cells": [
  {
   "cell_type": "code",
   "execution_count": null,
   "metadata": {},
   "outputs": [],
   "source": [
    "import flamp\n",
    "import numpy as np\n",
    "import numpy.linalg as lin\n",
    "import pandas as pd\n",
    "import seaborn as sns\n",
    "from matplotlib import pyplot as plt\n",
    "from scipy import sparse\n",
    "from tqdm import tqdm\n",
    "\n",
    "import matrix_functions as mf\n",
    "\n",
    "flamp.set_dps(50)  # compute with this many decimal digits precision\n"
   ]
  },
  {
   "cell_type": "code",
   "execution_count": null,
   "metadata": {},
   "outputs": [],
   "source": [
    "dim = 100\n",
    "kappa = flamp.gmpy2.mpfr(10_000.)\n",
    "lambda_min = flamp.gmpy2.mpfr(1.)\n",
    "lambda_max = kappa * lambda_min\n",
    "\n",
    "# a_diag = mf.flipped_model_spectrum(dim, kappa, 50, lambda_1=lambda_min)\n",
    "# a_diag = mf.two_cluster_spectrum(dim, kappa, low_cluster_size=3, lambda_1=lambda_min)\n",
    "# a_diag = mf.utils.linspace(lambda_min, lambda_max, num=dim)\n",
    "# a_diag = mf.model_spectrum(dim, kappa, .9, lambda_1=lambda_min)\n",
    "# a_diag = mf.two_cluster_spectrum(dim, kappa, low_cluster_width=0.001, high_cluster_width=0.5, low_cluster_size=5, lambda_1=lambda_min)\n",
    "\n",
    "width = np.geomspace(0.5e-5, 0.5e0, num=40)[20]\n",
    "a_diag = mf.two_cluster_spectrum(dim, kappa, low_cluster_size=1, low_cluster_width=0.005, high_cluster_width=width)\n",
    "\n",
    "A = mf.DiagonalMatrix(a_diag)\n",
    "sqrtA = mf.DiagonalMatrix(flamp.sqrt(a_diag))\n",
    "invA = mf.DiagonalMatrix(1./a_diag)\n",
    "\n",
    "plt.plot(a_diag)"
   ]
  },
  {
   "cell_type": "code",
   "execution_count": null,
   "metadata": {},
   "outputs": [],
   "source": [
    "b = flamp.ones(dim)\n",
    "b[0] = flamp.gmpy2.mpfr(np.geomspace(1e-8, 1e3, num=60)[[1, 19, 37, 54]][0])\n",
    "\n",
    "denom_deg = 2\n",
    "def f(x):\n",
    "    return x**(-denom_deg)\n",
    "\n",
    "ground_truth = mf.diagonal_fa(f, a_diag, b)\n",
    "\n",
    "# size of Krylov subspace\n",
    "ks = list(range(1,25)) + list(range(30, dim, 10))"
   ]
  },
  {
   "cell_type": "code",
   "execution_count": null,
   "metadata": {},
   "outputs": [],
   "source": [
    "def spectral_norm(X):\n",
    "    return np.abs(flamp.eigh(X, eigvals_only=True)).max()"
   ]
  },
  {
   "cell_type": "code",
   "execution_count": null,
   "metadata": {},
   "outputs": [],
   "source": [
    "err2_Anorm = pd.Series(index=ks, dtype=np.float64)\n",
    "opt2_err_Anorm = pd.Series(index=ks, dtype=np.float64)\n",
    "lanc_vs_opt_Anorm = pd.Series(index=ks, dtype=np.float64)\n",
    "one_removed_Anorm = pd.Series(index=ks, dtype=np.float64)\n",
    "opt_removed_Anorm = pd.Series(index=ks, dtype=np.float64)\n",
    "\n",
    "one_removed_submult = pd.Series(index=ks, dtype=np.float64)\n",
    "opt_removed_submult = pd.Series(index=ks, dtype=np.float64)\n",
    "\n",
    "for k in ks:\n",
    "    Q, (alpha, beta) = mf.lanczos(A, b, k, reorthogonalize=True, beta_tol=flamp.to_mp(\"1e-20\"))\n",
    "    T_lambda, T_V = mf.utils.eigh_tridiagonal(alpha, beta)\n",
    "    Q_TV = Q @ T_V\n",
    "    T_lambda = mf.DiagonalMatrix(T_lambda)\n",
    "\n",
    "    lanczos2 = Q_TV @ ((T_lambda ** (-denom_deg)) @ (Q_TV.transpose() @ b))\n",
    "    opt2 = Q_TV @ ((T_lambda ** (-1)) @ (Q_TV.transpose() @ ((A ** (1-denom_deg)) @ b)))\n",
    " \n",
    "    err2 = lanczos2 - ground_truth\n",
    "    err2_Anorm.loc[k] = mf.norm(sqrtA @ err2)\n",
    "\n",
    "    opt2_err = opt2 - ground_truth\n",
    "    opt2_err_Anorm.loc[k] = mf.norm(sqrtA @ opt2_err)\n",
    "\n",
    "    lanc_vs_opt = lanczos2 - opt2\n",
    "    lanc_vs_opt_Anorm.loc[k] = mf.norm(sqrtA @ lanc_vs_opt)\n",
    "\n",
    "    lanczos_prev = Q_TV @ ((T_lambda ** (1-denom_deg)) @ (Q_TV.transpose() @ b))\n",
    "    one_removed = invA @ lanczos_prev - ground_truth\n",
    "    one_removed_Anorm.loc[k] = mf.norm(sqrtA @ one_removed)\n",
    "    # one_removed_mat = invA @ (Q_TV @ ((T_lambda ** (1-denom_deg)) @ Q_TV.transpose())) - np.diag((A ** (-denom_deg)).diag)\n",
    "    # one_removed_submult.loc[k] = spectral_norm(sqrtA @ one_removed_mat) * mf.norm(b)\n",
    "    # assert mf.norm(one_removed_mat @ b - one_removed) / mf.norm(one_removed) < flamp.gmpy2.mpfr(1e-17)\n",
    "\n",
    "    opt_removed = invA @ lanczos_prev - opt2\n",
    "    opt_removed_Anorm.loc[k] = mf.norm(sqrtA @ opt_removed)\n",
    "    # opt_removed_mat = invA @ (Q_TV @ ((T_lambda ** (1-denom_deg)) @ Q_TV.transpose())) - Q_TV @ ((T_lambda ** (-1)) @ (Q_TV.transpose() @ np.diag((A ** (1-denom_deg)).diag)))\n",
    "    # opt_removed_submult.loc[k] = spectral_norm(sqrtA @ opt_removed_mat) * mf.norm(b)\n",
    "    # assert mf.norm(opt_removed_mat @ b - opt_removed) / mf.norm(opt_removed) < flamp.gmpy2.mpfr(1e-17)\n"
   ]
  },
  {
   "cell_type": "code",
   "execution_count": null,
   "metadata": {},
   "outputs": [],
   "source": [
    "results = pd.DataFrame({\n",
    "    \"$||\\mathrm{ERR}_2||_A$\": err2_Anorm,\n",
    "    \"$||QT^{-2}Q^\\\\top b - \\mathrm{OPT}_2||_A$\": lanc_vs_opt_Anorm,\n",
    "    \"$||\\mathrm{OPT}_2 - A^{-2}b||_A$\": opt2_err_Anorm,\n",
    "    \"$||QT^{-2}Q^\\\\top b - \\mathrm{OPT}_2||_A + ||\\mathrm{OPT}_2 - A^{-2}b||_A$\": opt2_err_Anorm + lanc_vs_opt_Anorm,\n",
    "    \"$||A^{-1}QT^{-1}Q^\\\\top b - A^{-2}b||_A$\": one_removed_Anorm,\n",
    "    # \"$||A^{1/2}(A^{-1}QT^{-1}Q^\\\\top - A^{-2})||_2 \\cdot ||b||_2$\": one_removed_submult,\n",
    "    \"$||A^{-1}QT^{-1}Q^\\\\top b - \\mathrm{OPT}_2||_A$\": opt_removed_Anorm,\n",
    "    # \"$||A^{1/2}(A^{-1}QT^{-1}Q^\\\\top - QT^{-1}Q^\\\\top A^{-1})||_2 \\cdot ||b||_2$\": opt_removed_submult,\n",
    "}, index=ks)\n",
    "\n",
    "relative_error = True\n",
    "if relative_error:\n",
    "    # notice that it's relative to the *Euclidean* norm of the ground truth\n",
    "    results /= mf.norm(ground_truth)\n",
    "    error_label = \"Relative Error\"\n",
    "else:\n",
    "    error_label = \"Error\""
   ]
  },
  {
   "cell_type": "code",
   "execution_count": null,
   "metadata": {},
   "outputs": [],
   "source": [
    "assert (results != flamp.gmpy2.mpfr('nan')).all().all()\n",
    "assert (~pd.isna(results)).all().all()"
   ]
  },
  {
   "cell_type": "code",
   "execution_count": null,
   "metadata": {},
   "outputs": [],
   "source": [
    "results_long = results.reset_index(names=\"Number of matrix-vector products\").melt(\n",
    "    id_vars=[\"Number of matrix-vector products\"], value_name=error_label, var_name=\"Approximant\")\n",
    "\n",
    "sns.lineplot(x=\"Number of matrix-vector products\", y=error_label, hue=\"Approximant\", style=\"Approximant\",\n",
    "    data=results_long[results_long[\"Number of matrix-vector products\"] <= 7]).set(\n",
    "    title=f'Approximation of $f(A)b$',\n",
    "    yscale='log'\n",
    ");\n",
    "\n",
    "plt.savefig('output/commutors.svg')"
   ]
  },
  {
   "cell_type": "code",
   "execution_count": null,
   "metadata": {},
   "outputs": [],
   "source": [
    "assert (results['$||A^{-1}QT^{-1}Q^\\\\top b - A^{-2}b||_A$'] \n",
    "    < results['$||\\\\mathrm{OPT}_2 - A^{-2}b||_A$']).all()"
   ]
  },
  {
   "cell_type": "code",
   "execution_count": null,
   "metadata": {},
   "outputs": [],
   "source": [
    "(results['$||\\\\mathrm{OPT}_2 - A^{-2}b||_A$'] / results[\n",
    "    '$||A^{-1}QT^{-1}Q^\\\\top b - A^{-2}b||_A$']).iloc[:17]"
   ]
  },
  {
   "cell_type": "code",
   "execution_count": null,
   "metadata": {},
   "outputs": [],
   "source": [
    "assert (results['$||A^{-1}QT^{-1}Q^\\\\top b - \\\\mathrm{OPT}_2||_A$'] \n",
    "    < results['$||\\\\mathrm{OPT}_2 - A^{-2}b||_A$']).all()"
   ]
  },
  {
   "cell_type": "code",
   "execution_count": null,
   "metadata": {},
   "outputs": [],
   "source": [
    "(results['$||\\\\mathrm{OPT}_2 - A^{-2}b||_A$'] / results[\n",
    "    '$||A^{-1}QT^{-1}Q^\\\\top b - \\\\mathrm{OPT}_2||_A$']).iloc[:17]\n"
   ]
  },
  {
   "cell_type": "code",
   "execution_count": null,
   "metadata": {},
   "outputs": [],
   "source": [
    "(results['$||\\\\mathrm{ERR}_2||_A$'] / results['$||\\\\mathrm{OPT}_2 - A^{-2}b||_A$']).max()"
   ]
  },
  {
   "cell_type": "code",
   "execution_count": null,
   "metadata": {},
   "outputs": [],
   "source": []
  },
  {
   "cell_type": "code",
   "execution_count": null,
   "metadata": {},
   "outputs": [],
   "source": [
    "k = 50\n",
    "Q, (alpha, beta) = mf.lanczos(A, b, k, reorthogonalize=True, beta_tol=flamp.to_mp(\"1e-20\"))\n",
    "T_lambda, T_V = mf.utils.eigh_tridiagonal(alpha, beta)\n",
    "Q_TV = Q @ T_V\n",
    "sns.heatmap((Q_TV @ Q_TV.transpose()).astype(float))"
   ]
  },
  {
   "cell_type": "code",
   "execution_count": null,
   "metadata": {},
   "outputs": [],
   "source": []
  },
  {
   "cell_type": "code",
   "execution_count": null,
   "metadata": {},
   "outputs": [],
   "source": [
    "xxx = flamp.linspace(lambda_min, 20, 5000)\n",
    "plt.plot(xxx, xxx**(-2))\n",
    "plt.plot(a_diag, np.diag(Q_TV @ (mf.DiagonalMatrix(1./T_lambda) @ (Q_TV.transpose() @ np.diag(1./a_diag)))))\n",
    "\n",
    "plt.xlim([0, 100])"
   ]
  },
  {
   "cell_type": "code",
   "execution_count": null,
   "metadata": {},
   "outputs": [],
   "source": []
  },
  {
   "cell_type": "code",
   "execution_count": null,
   "metadata": {},
   "outputs": [],
   "source": [
    "err_mat = Q_TV @ (mf.DiagonalMatrix(f(T_lambda)) @ Q_TV.transpose()) - np.diag(f(A.diag))\n",
    "# eigvals is vector of eigenvalues in no particular order\n",
    "# columns of eigvecs is corresponding eigenvectors\n",
    "eigvals, eigvecs = flamp.eigh(err_mat)"
   ]
  },
  {
   "cell_type": "code",
   "execution_count": null,
   "metadata": {},
   "outputs": [],
   "source": [
    "plt.plot(eigvals)"
   ]
  },
  {
   "cell_type": "code",
   "execution_count": null,
   "metadata": {},
   "outputs": [],
   "source": [
    "plt.plot(eigvecs[:, 0])"
   ]
  },
  {
   "cell_type": "code",
   "execution_count": null,
   "metadata": {},
   "outputs": [],
   "source": []
  },
  {
   "cell_type": "code",
   "execution_count": null,
   "metadata": {},
   "outputs": [],
   "source": [
    "# Is A^{-1}b in the span of Q?\n",
    "np.linalg.norm((invA @ b) - Q @ Q.transpose() @ (invA @ b), ord=np.inf)"
   ]
  },
  {
   "cell_type": "code",
   "execution_count": null,
   "metadata": {},
   "outputs": [],
   "source": []
  },
  {
   "cell_type": "code",
   "execution_count": null,
   "metadata": {},
   "outputs": [],
   "source": []
  },
  {
   "cell_type": "code",
   "execution_count": null,
   "metadata": {},
   "outputs": [],
   "source": []
  },
  {
   "cell_type": "code",
   "execution_count": null,
   "metadata": {},
   "outputs": [],
   "source": [
    "Q12, (alpha12, beta12) = mf.lanczos(A, b, k=None, reorthogonalize=True, beta_tol=flamp.to_mp(\"1e-20\"))\n",
    "T_lambda12, T_V12 = mf.utils.eigh_tridiagonal(alpha12, beta12)"
   ]
  },
  {
   "cell_type": "code",
   "execution_count": null,
   "metadata": {},
   "outputs": [],
   "source": [
    "Q1, (alpha1, beta1) = mf.lanczos(A, b, k=25, reorthogonalize=True, beta_tol=flamp.to_mp(\"1e-20\"))\n",
    "T_lambda1, T_V1 = mf.utils.eigh_tridiagonal(alpha1, beta1)"
   ]
  },
  {
   "cell_type": "code",
   "execution_count": null,
   "metadata": {},
   "outputs": [],
   "source": []
  },
  {
   "cell_type": "code",
   "execution_count": null,
   "metadata": {},
   "outputs": [],
   "source": []
  }
 ],
 "metadata": {
  "kernelspec": {
   "display_name": "Python 3.9.1 ('base')",
   "language": "python",
   "name": "python3"
  },
  "language_info": {
   "codemirror_mode": {
    "name": "ipython",
    "version": 3
   },
   "file_extension": ".py",
   "mimetype": "text/x-python",
   "name": "python",
   "nbconvert_exporter": "python",
   "pygments_lexer": "ipython3",
   "version": "3.9.1"
  },
  "orig_nbformat": 4,
  "vscode": {
   "interpreter": {
    "hash": "995e9fae4017a94a0855a8c23e7f212ad0ac508fdc1855e26859a30dfe101cde"
   }
  }
 },
 "nbformat": 4,
 "nbformat_minor": 2
}
