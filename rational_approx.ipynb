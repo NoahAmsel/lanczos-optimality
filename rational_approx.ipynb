{
 "cells": [
  {
   "cell_type": "code",
   "execution_count": null,
   "metadata": {},
   "outputs": [],
   "source": [
    "import baryrat\n",
    "import matplotlib.pyplot as plt\n",
    "import numpy as np\n",
    "import numpy.linalg as lin\n",
    "import pandas as pd\n",
    "import seaborn as sns\n",
    "import scipy.special as sps\n",
    "\n",
    "import matrix_functions as mf\n",
    "from zolotarev import *"
   ]
  },
  {
   "cell_type": "code",
   "execution_count": null,
   "metadata": {},
   "outputs": [],
   "source": [
    "f = np.sqrt\n",
    "a = 1\n",
    "b = 100\n",
    "\n",
    "# f = np.sign\n",
    "# a = -1.\n",
    "# b = 1."
   ]
  },
  {
   "cell_type": "markdown",
   "metadata": {},
   "source": [
    "Zolotarev found polynomials $p, q$ such that\n",
    "$$r(x) = \\frac{xp(x^2)}{q(x^2)} \\approx \\mathrm{sgn}(x)$$\n",
    "on $x \\in [-1, -\\gamma] \\cup [\\gamma, 1]$ for $0 < \\gamma < 1$.\n",
    "Letting $s(x) = p(x) / q(x)$, this means\n",
    "$$s(x^2) = \\frac{r(x)}x \\approx \\frac{\\mathrm{sgn}(x)}{x} = \\frac1{|x|}$$\n",
    "$$\\implies |x| \\approx \\frac1{s(x^2)}$$\n",
    "Letting $y = x^2$, this yields\n",
    "$$\\sqrt{y} \\approx \\frac1{s(y)} = \\frac{q(y)}{p(y)}$$\n",
    "for all $y \\in [\\gamma^2, 1]$."
   ]
  },
  {
   "attachments": {},
   "cell_type": "markdown",
   "metadata": {},
   "source": [
    "The following shows the compares a low degree rational approximation to the real thing\n"
   ]
  },
  {
   "cell_type": "code",
   "execution_count": null,
   "metadata": {},
   "outputs": [],
   "source": [
    "xxx = np.linspace(a, b, num=1000)\n",
    "true = np.sqrt(xxx)\n",
    "pred = tylers_sqrt(3, xxx.min(), xxx.max())(xxx)\n",
    "plt.plot(xxx, true)\n",
    "plt.plot(xxx, pred)"
   ]
  },
  {
   "attachments": {},
   "cell_type": "markdown",
   "metadata": {},
   "source": [
    "The following simple experiment shows our approximation converging to the real thing"
   ]
  },
  {
   "cell_type": "code",
   "execution_count": null,
   "metadata": {},
   "outputs": [],
   "source": [
    "xxx = np.linspace(a, b, num=1000)\n",
    "\n",
    "qq = list(range(2, 20))\n",
    "error = []\n",
    "for q in qq:\n",
    "    # true = np.sign(xxx)\n",
    "    # pred = tylers_sign(q, xxx.min(), xxx.max())(xxx)\n",
    "    true = np.sqrt(xxx)\n",
    "    pred = tylers_sqrt(q, xxx.min(), xxx.max())(xxx)\n",
    "    error.append(np.linalg.norm(true - pred, ord=np.inf))\n",
    "\n",
    "plt.plot(qq, np.log10(error))\n"
   ]
  },
  {
   "attachments": {},
   "cell_type": "markdown",
   "metadata": {},
   "source": [
    "But it isn't actually the $\\ell^{\\infty}$ minimizer, so the errors do not equioscillate"
   ]
  },
  {
   "cell_type": "code",
   "execution_count": null,
   "metadata": {},
   "outputs": [],
   "source": [
    "plt.plot(xxx, true-pred)\n",
    "# plt.plot(xxx, np.log(np.abs(true-pred)))"
   ]
  },
  {
   "cell_type": "code",
   "execution_count": null,
   "metadata": {},
   "outputs": [],
   "source": [
    "dofs = []  # degrees of freedom\n",
    "chebyshev_error = []\n",
    "aaa_error = []\n",
    "brasil_error = []\n",
    "zolotarev_error = []\n",
    "\n",
    "spectrum_discritization = np.linspace(a, b, 1000) # mf.cheb_nodes(1000, a, b) #\n",
    "f_spectrum_discritization = f(spectrum_discritization)\n",
    "for dof in range(4, 33, 2):\n",
    "    cheb_interpolant = mf.cheb_interpolation(dof, f, a, b)\n",
    "    dofs.append(dof)\n",
    "    chebyshev_error.append(lin.norm(cheb_interpolant(spectrum_discritization) - f_spectrum_discritization, ord=np.inf))\n",
    "\n",
    "    aaa_interpolant = baryrat.aaa(spectrum_discritization, f, mmax=(dof//2))\n",
    "    aaa_error.append(lin.norm(aaa_interpolant(spectrum_discritization) - f_spectrum_discritization, ord=np.inf))\n",
    "\n",
    "    # brasil_interpolant = baryrat.brasil(f, [a, b], (dof//2, dof//2))\n",
    "    brasil_interpolant = baryrat.brasil(f, [a, b], (dof-3, 3))\n",
    "    brasil_error.append(lin.norm(brasil_interpolant(spectrum_discritization) - f_spectrum_discritization, ord=np.inf))\n",
    "\n",
    "    if f == np.sqrt: zolotarev_interpolant = lambda x: tylers_sqrt(dof//2, a, b)(x)\n",
    "    if f == np.sign: zolotarev_interpolant = tylers_sign(dof//2, a, b)\n",
    "    zolotarev_error.append(lin.norm(zolotarev_interpolant(spectrum_discritization) - f_spectrum_discritization, ord=np.inf))\n",
    "\n",
    "results = pd.DataFrame({\n",
    "    \"Degrees of Freedom\": dofs,\n",
    "    \"Chebyshev\": chebyshev_error,\n",
    "    \"AAA\": aaa_error,\n",
    "    \"Brasil\": brasil_error,\n",
    "    \"Zolotarev\": zolotarev_error\n",
    "})"
   ]
  },
  {
   "cell_type": "code",
   "execution_count": null,
   "metadata": {},
   "outputs": [],
   "source": [
    "results_long = pd.melt(results, [\"Degrees of Freedom\"], value_name=\"Error\", var_name=\"Approximant\")\n",
    "sns.lineplot(x=\"Degrees of Freedom\", y=\"Error\", hue=\"Approximant\", style=\"Approximant\", data=results_long).set(\n",
    "    title=f'Approximation over $[{a}, {b}]$',\n",
    "    yscale='log'\n",
    ");"
   ]
  },
  {
   "attachments": {},
   "cell_type": "markdown",
   "metadata": {},
   "source": [
    "What if we use a rational approximation with very low denominator degree?"
   ]
  },
  {
   "cell_type": "code",
   "execution_count": null,
   "metadata": {},
   "outputs": [],
   "source": [
    "from fa_performance import chebyshev_regression_linf_error_curve\n",
    "ks = list(range(1, 60, 5))\n",
    "s1 = chebyshev_regression_linf_error_curve(a, b, flamp.sqrt, ks, 1000)\n",
    "plt.semilogy(s1)\n",
    "\n",
    "spectrum_discritization = mf.cheb_nodes(1000, a=a, b=b, dtype=np.dtype('O'))\n",
    "f_spectrum_discritization = flamp.sqrt(spectrum_discritization)\n",
    "CV = mf.DiagonalMatrix(spectrum_discritization ** (-4)) @ mf.cheb_vandermonde(spectrum_discritization, max(ks))\n",
    "cheb_regression_errors = pd.Series(index=ks, dtype=np.float64)\n",
    "for k in ks:\n",
    "    cheb_coeffs = flamp.qr_solve(CV[:, :k], f_spectrum_discritization)\n",
    "    # cheb_coeffs, _, _, _ = lin.lstsq(CV[:, :k], f_spectrum_discritization, rcond=None)\n",
    "    cheb_regression_errors.loc[k] = mf.norm(CV[:, :k] @ cheb_coeffs - f_spectrum_discritization, ord=np.inf)\n",
    "s2 = cheb_regression_errors\n",
    "\n",
    "plt.semilogy(s2)"
   ]
  }
 ],
 "metadata": {
  "kernelspec": {
   "display_name": "Python 3.9.1 ('base')",
   "language": "python",
   "name": "python3"
  },
  "language_info": {
   "codemirror_mode": {
    "name": "ipython",
    "version": 3
   },
   "file_extension": ".py",
   "mimetype": "text/x-python",
   "name": "python",
   "nbconvert_exporter": "python",
   "pygments_lexer": "ipython3",
   "version": "3.9.1"
  },
  "orig_nbformat": 4,
  "vscode": {
   "interpreter": {
    "hash": "995e9fae4017a94a0855a8c23e7f212ad0ac508fdc1855e26859a30dfe101cde"
   }
  }
 },
 "nbformat": 4,
 "nbformat_minor": 2
}
